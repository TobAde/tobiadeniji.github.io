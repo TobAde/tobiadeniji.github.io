{
  "nbformat": 4,
  "nbformat_minor": 0,
  "metadata": {
    "kernelspec": {
      "display_name": "Python 3",
      "language": "python",
      "name": "python3"
    },
    "language_info": {
      "codemirror_mode": {
        "name": "ipython",
        "version": 3
      },
      "file_extension": ".py",
      "mimetype": "text/x-python",
      "name": "python",
      "nbconvert_exporter": "python",
      "pygments_lexer": "ipython3",
      "version": "3.7.6"
    },
    "colab": {
      "name": "Statistical Tests and Experiments.ipynb",
      "provenance": [],
      "collapsed_sections": [
        "basOXFBPJHpH",
        "MCgZJB_xKBWF"
      ],
      "include_colab_link": true
    }
  },
  "cells": [
    {
      "cell_type": "markdown",
      "metadata": {
        "id": "view-in-github",
        "colab_type": "text"
      },
      "source": [
        "<a href=\"https://colab.research.google.com/github/TobAde/tobiadeniji.github.io/blob/master/Statistical_Tests_and_Experiments.ipynb\" target=\"_parent\"><img src=\"https://colab.research.google.com/assets/colab-badge.svg\" alt=\"Open In Colab\"/></a>"
      ]
    },
    {
      "cell_type": "markdown",
      "metadata": {
        "id": "dq31u84bXaQB"
      },
      "source": [
        "## Analyzing Udacity A/B test!"
      ]
    },
    {
      "cell_type": "markdown",
      "metadata": {
        "id": "RWYSfF13XaQB"
      },
      "source": [
        "<div><img style=\"height: 350px;\" src=\"https://upload.wikimedia.org/wikipedia/commons/3/3b/Udacity_logo.png\" /></div>"
      ]
    },
    {
      "cell_type": "markdown",
      "metadata": {
        "id": "IKsclPa-XaQC"
      },
      "source": [
        "## Background"
      ]
    },
    {
      "cell_type": "markdown",
      "metadata": {
        "id": "sAvUX7FBXaQC"
      },
      "source": [
        "At the time of this experiment, Udacity courses currently have two options on the course overview page: \"start free trial\", and \"access course materials\". If the student clicks \"start free trial\", they will be asked to enter their credit card information, and then they will be enrolled in a free trial for the paid version of the course. After 14 days, they will automatically be charged unless they cancel first. If the student clicks \"access course materials\", they will be able to view the videos and take the quizzes for free, but they will not receive coaching support or a verified certificate, and they will not submit their final project for feedback.\n",
        "\n",
        "\n",
        "In the experiment, Udacity tested a change where if the student clicked \"start free trial\", they were asked how much time they had available to devote to the course. If the student indicated 5 or more hours per week, they would be taken through the checkout process as usual. If they indicated fewer than 5 hours per week, a message would appear indicating that Udacity courses usually require a greater time commitment for successful completion, and suggesting that the student might like to access the course materials for free. At this point, the student would have the option to continue enrolling in the free trial, or access the course materials for free instead. "
      ]
    },
    {
      "cell_type": "markdown",
      "metadata": {
        "id": "7oknUPjWXaQD"
      },
      "source": [
        "Data is available at https://docs.google.com/spreadsheets/d/1Mu5u9GrybDdska-ljPXyBjTpdZIUev_6i7t4LRDfXM8/edit#gid=0"
      ]
    },
    {
      "cell_type": "markdown",
      "metadata": {
        "id": "_oMkgsdYXaQD"
      },
      "source": [
        "---------"
      ]
    },
    {
      "cell_type": "markdown",
      "metadata": {
        "id": "N88kZbX0iA66"
      },
      "source": [
        "# Project"
      ]
    },
    {
      "cell_type": "markdown",
      "metadata": {
        "id": "HlWLMqHhEQwC"
      },
      "source": [
        "##Introduction"
      ]
    },
    {
      "cell_type": "markdown",
      "metadata": {
        "id": "GtgfWv0hEYC6"
      },
      "source": [
        "The data set consists of control and experiment dataset for 36 days recording a change on the Udacity A/B testing Course platform.\n",
        "\n",
        "With the primary KPI of getting more payments from advising people on how much time is required to take the course so multiple enrollments are not gotten without the final payments taking place for the course.\n",
        "\n",
        "The KPI can be measured with the retention metric which is defined as the rate of payments per enrollment."
      ]
    },
    {
      "cell_type": "markdown",
      "metadata": {
        "id": "FsoYKmqDiIRL"
      },
      "source": [
        "##Loading Packages and Dataset"
      ]
    },
    {
      "cell_type": "code",
      "metadata": {
        "id": "_6sZGjVmhgsh"
      },
      "source": [
        "import pandas as pd\n",
        "import numpy as np\n",
        "import seaborn as sns\n",
        "import matplotlib.pyplot as plt\n",
        "import math\n",
        "import scipy.stats as st\n",
        "from scipy.stats import ttest_ind"
      ],
      "execution_count": null,
      "outputs": []
    },
    {
      "cell_type": "code",
      "metadata": {
        "id": "6mZrQKpsj31l"
      },
      "source": [
        "control = pd.read_csv('control.csv')\n",
        "exp = pd.read_csv('experiment.csv')"
      ],
      "execution_count": null,
      "outputs": []
    },
    {
      "cell_type": "markdown",
      "metadata": {
        "id": "ms3tWTEsIR7K"
      },
      "source": [
        "## Merging datasets"
      ]
    },
    {
      "cell_type": "code",
      "metadata": {
        "id": "mvvKA3AqhgnV"
      },
      "source": [
        "control.columns = ['Date', 'control_pageviews', 'control_clicks', 'control_enrollments', 'control_payments']\n",
        "exp.columns = ['Date', 'exp_pageviews', 'exp_clicks', 'exp_enrollments', 'exp_payments']\n",
        "df = pd.merge(control, exp, on = 'Date')"
      ],
      "execution_count": null,
      "outputs": []
    },
    {
      "cell_type": "markdown",
      "metadata": {
        "id": "6NrR_qrPJQEn"
      },
      "source": [
        "## Click Through Rate Metric"
      ]
    },
    {
      "cell_type": "markdown",
      "metadata": {
        "id": "dasy3m4ENLNm"
      },
      "source": [
        "The click through rate metric will be used for the Sanity check to make sure the proportion of clicks given a pageview (this will be a measure of the click through probability)is about the same in both groups (control and experiment).\n",
        "In order to check this out we will use A/B test.\n",
        "\n",
        "The **null hypothesis** chosen is that there is no difference between the click-through probability of the control and experiment groups"
      ]
    },
    {
      "cell_type": "code",
      "metadata": {
        "id": "uppOv66JHmP_"
      },
      "source": [
        "control_ctr = df['control_clicks'].sum() / df['control_pageviews'].sum()\n",
        "exp_ctr = df['exp_clicks'].sum() / df['exp_pageviews'].sum()\n",
        "d_hat = round(exp_ctr - control_ctr, 6)\n",
        "total_clicks = df['control_clicks'].sum() + df['exp_clicks'].sum()\n",
        "total_pageviews = df['control_pageviews'].sum() + df['exp_pageviews'].sum()\n",
        "prob_pooled = total_clicks / total_pageviews"
      ],
      "execution_count": null,
      "outputs": []
    },
    {
      "cell_type": "code",
      "metadata": {
        "colab": {
          "base_uri": "https://localhost:8080/"
        },
        "id": "zmY3DVH5QIXb",
        "outputId": "bc1b6dbd-efb4-4ca1-c3ca-85b6a96e3ff8"
      },
      "source": [
        "alpha = 1 - 0.95\n",
        "z_score = st.norm.ppf(1 - alpha / 2)\n",
        "se_pooled = math.sqrt(prob_pooled * (1 - prob_pooled) * (1 / df['control_pageviews'].sum() + 1 / df['exp_pageviews'].sum()))\n",
        "margin_of_error = se_pooled * z_score\n",
        "print (\"The confidence interval is between\",0-margin_of_error,\"and\",0+margin_of_error)"
      ],
      "execution_count": null,
      "outputs": [
        {
          "output_type": "stream",
          "text": [
            "The confidence interval is between -0.001295655390242568 and 0.001295655390242568\n"
          ],
          "name": "stdout"
        }
      ]
    },
    {
      "cell_type": "code",
      "metadata": {
        "id": "Uhuo29u7Bepm",
        "colab": {
          "base_uri": "https://localhost:8080/"
        },
        "outputId": "699d5907-7fc0-4871-ec4a-fe4dbf3f454e"
      },
      "source": [
        "if d_hat < -margin_of_error or d_hat > margin_of_error:\n",
        "    print(\"Reject null hypothesis\")\n",
        "else: \n",
        "    print(\"Do not reject the null hypothesis\")"
      ],
      "execution_count": null,
      "outputs": [
        {
          "output_type": "stream",
          "text": [
            "Do not reject the null hypothesis\n"
          ],
          "name": "stdout"
        }
      ]
    },
    {
      "cell_type": "markdown",
      "metadata": {
        "id": "7Zo6R8AKyfUV"
      },
      "source": [
        "The click through probability which is a proportion in a population of the two samples is about the same since our d_hat is within the confidence interval. \n",
        "\n",
        "The confidence interval shows the range to prove there's no significant difference in click through probability of the two poportions.\n"
      ]
    },
    {
      "cell_type": "markdown",
      "metadata": {
        "id": "ICwuLdr47TWv"
      },
      "source": [
        "###Visualising the Confidence Interval"
      ]
    },
    {
      "cell_type": "code",
      "metadata": {
        "colab": {
          "base_uri": "https://localhost:8080/",
          "height": 290
        },
        "id": "Zep4FQ6XhggZ",
        "outputId": "47dea506-016a-4865-e847-8abfa5db0c7c"
      },
      "source": [
        "x = [(-st.norm.ppf(1 - .001 / 2) * se_pooled), (st.norm.ppf(1 - .001 / 2)*se_pooled)]\n",
        "y = [0,0]\n",
        "sns.lineplot(x=x,y=y)\n",
        "plt.title(\"Plot showing 95% confidence interval\", y=1.015, fontsize=20)\n",
        "plt.axvline(x=d_hat, linestyle='--', linewidth=2.5, label=\"d_hat\", c='orange')\n",
        "plt.axvline(x=-margin_of_error, linestyle='--', linewidth=2.5, label=\"lower bound 95% CI\", c='g')\n",
        "plt.axvline(x=margin_of_error, linestyle='--', linewidth=2.5, label=\"upper bound 95% CI\", c='purple')\n",
        "plt.legend(bbox_to_anchor=(1.01, 1), loc=\"upper left\");"
      ],
      "execution_count": null,
      "outputs": [
        {
          "output_type": "display_data",
          "data": {
            "image/png": "[encoded data removed]",
            "text/plain": [
              "<Figure size 432x288 with 1 Axes>"
            ]
          },
          "metadata": {
            "tags": [],
            "needs_background": "light"
          }
        }
      ]
    },
    {
      "cell_type": "markdown",
      "metadata": {
        "id": "3NOhTAVOXtAU"
      },
      "source": [
        "### Z-test"
      ]
    },
    {
      "cell_type": "markdown",
      "metadata": {
        "id": "XPf2BWSUZ_Gz"
      },
      "source": [
        "The **null hypothesis** is that there is no difference between the means of the click through rate per day for the control and experiment data.\n",
        "\n",
        "The **alternate hypothesis** is that the daily click through rate is different."
      ]
    },
    {
      "cell_type": "code",
      "metadata": {
        "id": "4h_d25IIeUbh"
      },
      "source": [
        "df['control_ctr'] = df['control_clicks'] / df['control_pageviews']\n",
        "df['exp_ctr'] = df['exp_clicks'] / df['exp_pageviews']"
      ],
      "execution_count": null,
      "outputs": []
    },
    {
      "cell_type": "markdown",
      "metadata": {
        "id": "eE8cYE-CEfcU"
      },
      "source": [
        "This will create columns for the click through rate per day for both the control and experiment data."
      ]
    },
    {
      "cell_type": "markdown",
      "metadata": {
        "id": "eWDFwCDepf9x"
      },
      "source": [
        "####Defining a function for Z-test"
      ]
    },
    {
      "cell_type": "markdown",
      "metadata": {
        "id": "NfOriurnp8VZ"
      },
      "source": [
        "##### Function"
      ]
    },
    {
      "cell_type": "code",
      "metadata": {
        "id": "UOvjcuMXYRyL"
      },
      "source": [
        "def get_z_test (confidence_level,diff,x1,x2,sd1,sd2,n1,n2) :\n",
        " \n",
        "  print(\"For confidence level of\", confidence_level,\"%\")\n",
        "  \n",
        "  alpha = round(1 - confidence_level/100, 5)\n",
        "\n",
        "  print(\"Alpha is\", alpha)\n",
        "\n",
        "  z_score = st.norm.ppf(1 - alpha / 2)\n",
        "\n",
        "  z_test_score = ((x1 - x2)-diff)/(math.sqrt((sd1**2/n1) + (sd2**2/n2)))\n",
        "  \n",
        "\n",
        "  p_value = round(st.norm.sf(abs(z_test_score))*2, 5)\n",
        "  print(\"P-value is\", p_value)\n",
        "\n",
        "\n",
        "  if z_test_score < -z_score or z_test_score > z_score:\n",
        "    print(\"Accept Alternate hypothesis\")\n",
        "\n",
        "  else:\n",
        "    print(\"Fail To Reject Null Hypothesis\")\n",
        "\n",
        " \n"
      ],
      "execution_count": null,
      "outputs": []
    },
    {
      "cell_type": "markdown",
      "metadata": {
        "id": "3DNHIc5Qpy3K"
      },
      "source": [
        "##### Parameters"
      ]
    },
    {
      "cell_type": "markdown",
      "metadata": {
        "id": "_QB9W89JvtkI"
      },
      "source": [
        "x1 = Mean of Sample 1\n",
        "\n",
        "x2 = Mean of Sample 2\n",
        "\n",
        "sd1 = Standard deviation 1\n",
        "\n",
        "sd2 = Standard deviation 2\n",
        "\n",
        "n1 = size of sample 1\n",
        "\n",
        "n2 = size of sample 2\n",
        "\n",
        "diff = hypothesized difference"
      ]
    },
    {
      "cell_type": "code",
      "metadata": {
        "id": "GMRQap_ep7S4"
      },
      "source": [
        "x1 = df['control_ctr'].mean()\n",
        "x2 = df['exp_ctr'].mean()\n",
        "\n",
        "sd1 = df['control_ctr'].std()\n",
        "sd2 = df['exp_ctr'].std()\n",
        "\n",
        "n1 = df['control_ctr'].count()\n",
        "n2 = df['exp_ctr'].count()\n",
        "\n",
        "diff = 0"
      ],
      "execution_count": null,
      "outputs": []
    },
    {
      "cell_type": "markdown",
      "metadata": {
        "id": "sSlQKmX6E1e7"
      },
      "source": [
        "where diff is the hypothesized difference testing for equal means"
      ]
    },
    {
      "cell_type": "markdown",
      "metadata": {
        "id": "basOXFBPJHpH"
      },
      "source": [
        "####Z-test for Confidence level of 95%"
      ]
    },
    {
      "cell_type": "code",
      "metadata": {
        "id": "kuHja0XBORVf",
        "colab": {
          "base_uri": "https://localhost:8080/"
        },
        "outputId": "9240b7f4-045d-4b84-ee18-89200e03e0c4"
      },
      "source": [
        "get_z_test(confidence_level,diff,x1,x2,sd1,sd2,n1,n2)"
      ],
      "execution_count": null,
      "outputs": [
        {
          "output_type": "stream",
          "text": [
            "For confidence level of 95 %\n",
            "Alpha is 0.05\n",
            "P-value is 0.93383\n",
            "Accept Null Hypothesis\n"
          ],
          "name": "stdout"
        }
      ]
    },
    {
      "cell_type": "markdown",
      "metadata": {
        "id": "2TP52W64qE3O"
      },
      "source": [
        "The function uses the z_test_score to check the statistical significance of the metric which is then seconded by the p-value \n",
        "\n",
        "Since the p-value less than the alpha value, we have to Accept the null Hypothesis."
      ]
    },
    {
      "cell_type": "markdown",
      "metadata": {
        "id": "2f3K5GPgX2ft"
      },
      "source": [
        "###T-test"
      ]
    },
    {
      "cell_type": "markdown",
      "metadata": {
        "id": "4pnRs1qsdmgt"
      },
      "source": [
        "The **null hypothesis** is that there is no difference between the means of the click through rate per day for the control and experiment data.\n",
        "The **alternate hypothesis** is that the daily click through rate is different.\n",
        "\n",
        "Using confidence level of 95%"
      ]
    },
    {
      "cell_type": "markdown",
      "metadata": {
        "id": "FPBrlYHbIyDZ"
      },
      "source": [
        "####Defining a function for T-test"
      ]
    },
    {
      "cell_type": "markdown",
      "metadata": {
        "id": "-1Y8ifeMJs2k"
      },
      "source": [
        "##### Function"
      ]
    },
    {
      "cell_type": "code",
      "metadata": {
        "id": "tmq5SNF1X83N"
      },
      "source": [
        "def get_t_test (confidence_level,a,b):\n",
        "  print(\"For confidence level of\", confidence_level,\"%\")\n",
        "  \n",
        "  alpha = round(1 - confidence_level/100, 5)\n",
        "  print(\"Alpha is\", alpha)\n",
        "\n",
        "  stat, p_value = ttest_ind(a,b)\n",
        "  print(\"P-value is\", round(p_value,5))\n",
        "\n",
        "  if p_value < alpha:\n",
        "    print(\"Reject Null Hypothesis\")\n",
        "  else:\n",
        "    print(\"Accept Null Hypothesis\")\n",
        " \n",
        "  print(\"\")"
      ],
      "execution_count": null,
      "outputs": []
    },
    {
      "cell_type": "markdown",
      "metadata": {
        "id": "sL5XAq8fJ7cU"
      },
      "source": [
        "##### Parameters"
      ]
    },
    {
      "cell_type": "markdown",
      "metadata": {
        "id": "SxTAvCzWwGm2"
      },
      "source": [
        "a = sample 1(Control data click through rate)\n",
        "\n",
        "b = sample 2(Experiment data click through rate)"
      ]
    },
    {
      "cell_type": "code",
      "metadata": {
        "id": "sP4LPmh0IRTp"
      },
      "source": [
        "a = df['control_ctr']\n",
        "b = df['exp_ctr']\n",
        "confidence_level = 95"
      ],
      "execution_count": null,
      "outputs": []
    },
    {
      "cell_type": "markdown",
      "metadata": {
        "id": "MCgZJB_xKBWF"
      },
      "source": [
        "####T-test for Confidence level of 95%"
      ]
    },
    {
      "cell_type": "code",
      "metadata": {
        "id": "b2kHg7SMKN9v",
        "colab": {
          "base_uri": "https://localhost:8080/"
        },
        "outputId": "b8f6216b-bc0c-44d3-f683-19fd16582667"
      },
      "source": [
        "get_t_test(95,a,b)"
      ],
      "execution_count": null,
      "outputs": [
        {
          "output_type": "stream",
          "text": [
            "For confidence level of 95 %\n",
            "Alpha is 0.05\n",
            "P-value is 0.93406\n",
            "Accept Null Hypothesis\n",
            "\n"
          ],
          "name": "stdout"
        }
      ]
    },
    {
      "cell_type": "markdown",
      "metadata": {
        "id": "1TdpYNRRdWa9"
      },
      "source": [
        "With Alpha value of 0.05, which is less that the pvalue of 0.93406, from the t-test, We have to fail to reject the null hypothesis."
      ]
    },
    {
      "cell_type": "markdown",
      "metadata": {
        "id": "TCAA2uPHLRuW"
      },
      "source": [
        "### Comparison of the two methods"
      ]
    },
    {
      "cell_type": "markdown",
      "metadata": {
        "id": "9hTbBDNKLVrc"
      },
      "source": [
        "Both the Z-test and T-test have p-values higher than the alpha value of 0.05. Implying that they both accept the Null hypothesis stated.\n",
        "\n",
        "There is a slight difference in their values. As they are both comparing the means of the click through probability of the two samples.\n",
        "\n",
        "Z-test had a p_value of 0.93383\n",
        "while \n",
        "T-test had a p_value of 0.93406\n"
      ]
    },
    {
      "cell_type": "markdown",
      "metadata": {
        "id": "d9jFKSU7WxY5"
      },
      "source": [
        "## Retention Metric for Evaluation "
      ]
    },
    {
      "cell_type": "markdown",
      "metadata": {
        "id": "zSRr-7xADYka"
      },
      "source": [
        "The retention metric is defined as the probability of payment, given enrollment\n",
        "\n",
        "We will use t_test to check if there is a statistical difference between the control and expreiment retention rate for varying Confidence Intervals\n",
        "\n",
        "The **Null Hypothesis** is that there is no difference between the means of the retention rate per day for the control and experiment data."
      ]
    },
    {
      "cell_type": "code",
      "metadata": {
        "id": "nxp6OrbJX8m4"
      },
      "source": [
        "df1= df.dropna(0)[['Date','control_payments', 'control_enrollments','exp_payments','exp_enrollments']]\n",
        "df1['control_rtn'] = df1['control_payments'] / df1['control_enrollments']\n",
        "df1['exp_rtn'] = df1['exp_payments'] / df1['exp_enrollments']"
      ],
      "execution_count": null,
      "outputs": []
    },
    {
      "cell_type": "markdown",
      "metadata": {
        "id": "_qIu372QXv7Z"
      },
      "source": [
        "Of the 36 rows provided in the data set, only 22 days have both payments and enrollments recorded and this will disrupt the comparison of the means."
      ]
    },
    {
      "cell_type": "markdown",
      "metadata": {
        "id": "LDhKWtUWtFYU"
      },
      "source": [
        "### Other Confidence levels "
      ]
    },
    {
      "cell_type": "markdown",
      "metadata": {
        "id": "fElBmWNTC3kZ"
      },
      "source": [
        "a = sample 1(control data retention rate per day)\n",
        "\n",
        "b = sample 2(Experiment data retention rate per day)"
      ]
    },
    {
      "cell_type": "code",
      "metadata": {
        "id": "yDavfxTue03q"
      },
      "source": [
        "a = df1['control_rtn']\n",
        "b = df1['exp_rtn']\n",
        "confidence_levels = [60,90,95,99]"
      ],
      "execution_count": null,
      "outputs": []
    },
    {
      "cell_type": "code",
      "metadata": {
        "id": "H41itWrLH-ir",
        "colab": {
          "base_uri": "https://localhost:8080/"
        },
        "outputId": "0c500985-8483-42e2-d61a-e477ab336c2e"
      },
      "source": [
        "for confidence_level in confidence_levels:\n",
        "  get_t_test(confidence_level,a,b)"
      ],
      "execution_count": null,
      "outputs": [
        {
          "output_type": "stream",
          "text": [
            "For confidence level of 60 %\n",
            "Alpha is 0.4\n",
            "P-value is 0.3189\n",
            "Reject Null Hypothesis\n",
            "\n",
            "For confidence level of 90 %\n",
            "Alpha is 0.1\n",
            "P-value is 0.3189\n",
            "Accept Null Hypothesis\n",
            "\n",
            "For confidence level of 95 %\n",
            "Alpha is 0.05\n",
            "P-value is 0.3189\n",
            "Accept Null Hypothesis\n",
            "\n",
            "For confidence level of 99 %\n",
            "Alpha is 0.01\n",
            "P-value is 0.3189\n",
            "Accept Null Hypothesis\n",
            "\n"
          ],
          "name": "stdout"
        }
      ]
    },
    {
      "cell_type": "markdown",
      "metadata": {
        "id": "cRvgiBOKMRtZ"
      },
      "source": [
        "This shows that there is a difference between the average retention rate for a confidence level of 60% while for other percentages there seem to be no difference and the null hypothesis is accepted"
      ]
    },
    {
      "cell_type": "markdown",
      "metadata": {
        "id": "00Pt0k-DWmAf"
      },
      "source": [
        "## Conclusion"
      ]
    },
    {
      "cell_type": "markdown",
      "metadata": {
        "id": "UQcwrSS9WpIo"
      },
      "source": [
        "The experiment failed as the null Hypothesis is accepted with a confidence level of 90% and greater.\n",
        "I will suggest another experiment is carried out and this experiment is not launched for the KPI to be improved which is the Retention rate for the A/B testing course on Udacity which is the reason for the change.\n"
      ]
    }
  ]
}